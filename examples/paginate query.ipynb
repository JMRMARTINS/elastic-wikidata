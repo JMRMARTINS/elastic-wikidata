{
 "cells": [
  {
   "cell_type": "markdown",
   "metadata": {},
   "source": [
    "# Automatically Paginating a SPARQL query"
   ]
  },
  {
   "cell_type": "code",
   "execution_count": 1,
   "metadata": {},
   "outputs": [
    {
     "name": "stdout",
     "output_type": "stream",
     "text": [
      "Requirement already satisfied: sparqlwrapper in /Users/kalyan/.pyenv/versions/3.7.3/lib/python3.7/site-packages (1.8.5)\n",
      "Requirement already satisfied: rdflib>=4.0 in /Users/kalyan/.pyenv/versions/3.7.3/lib/python3.7/site-packages (from sparqlwrapper) (5.0.0)\n",
      "Requirement already satisfied: six in /Users/kalyan/.pyenv/versions/3.7.3/lib/python3.7/site-packages (from rdflib>=4.0->sparqlwrapper) (1.12.0)\n",
      "Requirement already satisfied: isodate in /Users/kalyan/.pyenv/versions/3.7.3/lib/python3.7/site-packages (from rdflib>=4.0->sparqlwrapper) (0.6.0)\n",
      "Requirement already satisfied: pyparsing in /Users/kalyan/.pyenv/versions/3.7.3/lib/python3.7/site-packages (from rdflib>=4.0->sparqlwrapper) (2.4.2)\n",
      "\u001b[33mYou are using pip version 19.0.3, however version 20.2 is available.\n",
      "You should consider upgrading via the 'pip install --upgrade pip' command.\u001b[0m\n"
     ]
    }
   ],
   "source": [
    "!pip install sparqlwrapper"
   ]
  },
  {
   "cell_type": "code",
   "execution_count": 2,
   "metadata": {},
   "outputs": [],
   "source": [
    "import sys\n",
    "sys.path.append(\"..\")\n",
    "\n",
    "from itertools import islice\n",
    "from elastic_wikidata import sparql_helpers, sparql_to_es\n",
    "\n",
    "from tqdm.auto import tqdm"
   ]
  },
  {
   "cell_type": "markdown",
   "metadata": {},
   "source": [
    "Let's write a query to get all humans. There are over 8 million humans on Wikidata so we'll get a timeout if we try to run the entire query at once. "
   ]
  },
  {
   "cell_type": "code",
   "execution_count": 3,
   "metadata": {},
   "outputs": [],
   "source": [
    "query = \"\"\"\n",
    "SELECT ?human WHERE {{\n",
    "   ?human wdt:P31 wd:Q5.  \n",
    "}}\n",
    "\"\"\""
   ]
  },
  {
   "cell_type": "markdown",
   "metadata": {},
   "source": [
    "We can use `elastic_wikidata` to paginate the query instead."
   ]
  },
  {
   "cell_type": "code",
   "execution_count": 4,
   "metadata": {},
   "outputs": [
    {
     "name": "stdout",
     "output_type": "stream",
     "text": [
      "WARNING: no ORDER BY logic in the SPARQL query. This could result in incorrect pages.\n"
     ]
    },
    {
     "data": {
      "text/plain": [
       "'\\nSELECT ?human WHERE {{\\n   ?human wdt:P31 wd:Q5.  \\n}}\\n\\n        LIMIT 500\\n        OFFSET 0\\n        '"
      ]
     },
     "execution_count": 4,
     "metadata": {},
     "output_type": "execute_result"
    }
   ],
   "source": [
    "pages = sparql_helpers.paginate_sparql_query(query, page_size=500)\n",
    "next(pages)"
   ]
  },
  {
   "cell_type": "markdown",
   "metadata": {},
   "source": [
    "## Running paginated queries\n",
    "\n",
    "Putting this all together, we can use `sparql_to_es.get_entities_from_query` to:\n",
    "1. paginate a query to fetch entities\n",
    "2. run each page against the Wikidata Query Service\n",
    "3. combine the results"
   ]
  },
  {
   "cell_type": "code",
   "execution_count": 6,
   "metadata": {},
   "outputs": [
    {
     "data": {
      "application/vnd.jupyter.widget-view+json": {
       "model_id": "10e58e8a57434553918a3b57a67df597",
       "version_major": 2,
       "version_minor": 0
      },
      "text/plain": [
       "HBox(children=(IntProgress(value=0, max=10), HTML(value='')))"
      ]
     },
     "metadata": {},
     "output_type": "display_data"
    },
    {
     "name": "stdout",
     "output_type": "stream",
     "text": [
      "WARNING: no ORDER BY logic in the SPARQL query. This could result in incorrect pages.\n",
      "\n",
      "1000 entities returned\n",
      "1000 unique entities returned\n"
     ]
    }
   ],
   "source": [
    "entities = sparql_to_es.get_entities_from_query(query, page_size=100, limit=1000)\n",
    "\n",
    "print(f\"{len(entities)} entities returned\")\n",
    "print(f\"{len(set(entities))} unique entities returned\")"
   ]
  },
  {
   "cell_type": "code",
   "execution_count": null,
   "metadata": {},
   "outputs": [],
   "source": []
  }
 ],
 "metadata": {
  "kernelspec": {
   "display_name": "Python 3",
   "language": "python",
   "name": "python3"
  },
  "language_info": {
   "codemirror_mode": {
    "name": "ipython",
    "version": 3
   },
   "file_extension": ".py",
   "mimetype": "text/x-python",
   "name": "python",
   "nbconvert_exporter": "python",
   "pygments_lexer": "ipython3",
   "version": "3.7.3"
  }
 },
 "nbformat": 4,
 "nbformat_minor": 4
}
